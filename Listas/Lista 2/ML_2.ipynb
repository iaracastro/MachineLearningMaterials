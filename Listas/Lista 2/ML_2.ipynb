{
 "cells": [
  {
   "cell_type": "markdown",
   "metadata": {
    "id": "7r5SEFD9D4KK"
   },
   "source": [
    "# Trabalho de casa 02: Regressão linear"
   ]
  },
  {
   "cell_type": "markdown",
   "metadata": {},
   "source": [
    "**Instruções gerais:** Sua submissão deve conter: \n",
    "1. Um \"ipynb\" com seu código e as soluções dos problemas\n",
    "2. Uma versão pdf do ipynb\n",
    "\n",
    "Caso você opte por resolver as questões de \"papel e caneta\" em um editor de $\\LaTeX$ externo, o inclua no final da versão pdf do 'ipynb'."
   ]
  },
  {
   "cell_type": "markdown",
   "metadata": {},
   "source": [
    "## Exercícios computacionais"
   ]
  },
  {
   "cell_type": "markdown",
   "metadata": {
    "id": "bC12OuanDqSJ"
   },
   "source": [
    "**Exercício 1.** Deixamos à sua disposição o dataset [\"California Housing\"](https://scikit-learn.org/stable/modules/generated/sklearn.datasets.fetch_california_housing.html#sklearn.datasets.fetch_california_housing), dividido em treino, teste e validação.\n",
    "O modelo que você utilizará para aproximar a relação funcional entre as features e as labels é o modelo linear, i.e., $\\boldsymbol{y} = X\\theta$.\n",
    "Entretanto, você deve estimar seus parâmetros (minimizando o *mean squared error*) com **dois algoritmos diferentes**.\n",
    "Uma implementação deve estimar $\\theta$ por meio de **Stochastic Gradient Descent (SGD)** e, a outra, por meio de **Ordinary Least Squares (OLS)**, ou seja, utilizar a solução em fórmula fechada vista em aula.\n",
    "\n",
    "Para o SGD, o ponto inicial deve ser escolhido aleatoriamente e o algoritmo deve parar quando a norma da diferença entre duas estimativas consecutivas de $\\theta$ for menor do que um $\\varepsilon > 0$ previamente especificado.\n",
    "Para o experimento a seguir, fixe $\\varepsilon$ em um valor pequeno (por exemplo, alguma potência de $1/10$) para a qual o algoritmo convirja no máximo em alguns minutos para uma solução com perda pequena.\n",
    "\n",
    "Para diferentes tamanhos de minibatch (por exemplo $\\{2^{j}: 1 \\leq j \\leq 7\\}$), plote um gráfico representando o valor da perda $ L(\\hat{\\theta}) = \\frac{1}{n} \\lVert X \\hat{\\theta} - \\mathbf{y} \\rVert^{2}$ no conjunto de validação em função do número de epochs. Mostre também o valor ótimo obtido com OLS. Comente os resultados e o efeito tamanho do minibatch, e.g., no tempo de treinamento. Reporte valores nos conjuntos de treino, validação e teste."
   ]
  },
  {
   "cell_type": "code",
   "execution_count": 21,
   "metadata": {
    "id": "s7ruzqo6EDZx"
   },
   "outputs": [],
   "source": [
    "import numpy as np\n",
    "import pandas as pd\n",
    "from sklearn.cluster import KMeans\n",
    "from sklearn.datasets import fetch_california_housing\n",
    "from sklearn.model_selection import train_test_split\n",
    "from tqdm import tqdm\n",
    "import matplotlib.pyplot as plt\n",
    "\n",
    "SEED = 42\n",
    "np.random.seed(SEED)\n",
    "\n",
    "features, labels = fetch_california_housing(return_X_y=True)\n",
    "features_train, features_test, labels_train, labels_test = train_test_split(\n",
    "    features, labels, test_size=0.25\n",
    ")\n",
    "features_train, features_validation, labels_train, labels_validation = train_test_split(\n",
    "    features_train, labels_train, test_size=0.25\n",
    ")"
   ]
  },
  {
   "cell_type": "markdown",
   "metadata": {},
   "source": [
    "**Resposta**:"
   ]
  },
  {
   "cell_type": "code",
   "execution_count": 22,
   "metadata": {},
   "outputs": [],
   "source": [
    "import os\n",
    "# Define o número de threads como 1 para garantir determinismo e prevenir\n",
    "# um memory leak na implementação do KMeans do scikit-learn\n",
    "os.environ[\"OMP_NUM_THREADS\"] = \"1\"\n",
    "\n",
    "# Sets e Labels para criação de dataframes com os resultados\n",
    "feature_sets = [features_train, features_validation, features_test]\n",
    "label_sets = [\n",
    "    labels.reshape(-1, 1) for labels in [\n",
    "        labels_train, labels_validation, labels_test\n",
    "    ]\n",
    "]"
   ]
  },
  {
   "cell_type": "code",
   "execution_count": 23,
   "metadata": {},
   "outputs": [],
   "source": [
    "# Error quadrático médio\n",
    "def mse(y_true, y_pred):\n",
    "    return np.mean((y_true - y_pred) ** 2)\n",
    "\n",
    "# Gradiente Descendente Estocástico\n",
    "def train_SGD(\n",
    "    X: np.ndarray, y: np.ndarray, batch_size: int, tolerance: float = 1e-3,\n",
    "    learning_rate: float = 1e-8, n_epochs: int = 2000\n",
    ") -> tuple[np.ndarray, list[float]]:\n",
    "\n",
    "    losses = []\n",
    "    y = y.reshape(-1, 1)\n",
    "    rng = np.random.default_rng(SEED)\n",
    "    theta = rng.normal(size=(X.shape[1], 1), scale=0.01)\n",
    "    learn_rate = np.array([learning_rate])\n",
    "\n",
    "    # Para cada época t = 1,2,...,T\n",
    "    for _ in tqdm(range(n_epochs), f'Ajustando modelo, {n_epochs} epochs', unit='epoch'):\n",
    "        # Gera uma permutação aleatória dos índices\n",
    "        indices = rng.permutation(X.shape[0])\n",
    "        X_shuffled = X[indices]\n",
    "        y_shuffled = y[indices]\n",
    "        for i in range(0, X.shape[0], batch_size):\n",
    "            X_batch = X_shuffled[i:i+batch_size]\n",
    "            y_batch = y_shuffled[i:i+batch_size]\n",
    "            difference = X_batch @ theta - y_batch\n",
    "            gradients = 2 * X_batch.T @ difference\n",
    "            # Atualiza theta\n",
    "            theta -= learn_rate * gradients / batch_size\n",
    "\n",
    "        # Calcula a perda\n",
    "        loss = mse(y, X.dot(theta))\n",
    "        losses.append(loss)\n",
    "        # Se a perda for menor que a tolerância, para\n",
    "        if loss < tolerance:\n",
    "            break\n",
    "\n",
    "    return theta, losses\n",
    "\n",
    "# Mínimos Quadrados Ordinários (OLS)\n",
    "def train_OLS(X: np.ndarray, y: np.ndarray) -> np.ndarray:\n",
    "    theta = np.linalg.pinv(X.T.dot(X)).dot(X.T).dot(y.reshape(-1, 1)) # (X^T X)^-1 X^T y\n",
    "    return theta"
   ]
  },
  {
   "cell_type": "code",
   "execution_count": 24,
   "metadata": {},
   "outputs": [
    {
     "name": "stderr",
     "output_type": "stream",
     "text": [
      "Ajustando modelo, 2000 epochs:   0%|          | 2/2000 [00:00<01:45, 18.95epoch/s]"
     ]
    },
    {
     "name": "stderr",
     "output_type": "stream",
     "text": [
      "Ajustando modelo, 2000 epochs: 100%|██████████| 2000/2000 [01:45<00:00, 18.89epoch/s]\n",
      "Ajustando modelo, 2000 epochs: 100%|██████████| 2000/2000 [00:52<00:00, 37.86epoch/s]\n",
      "Ajustando modelo, 2000 epochs: 100%|██████████| 2000/2000 [00:27<00:00, 72.84epoch/s]\n",
      "Ajustando modelo, 2000 epochs: 100%|██████████| 2000/2000 [00:14<00:00, 140.31epoch/s]\n",
      "Ajustando modelo, 2000 epochs: 100%|██████████| 2000/2000 [00:08<00:00, 244.84epoch/s]\n",
      "Ajustando modelo, 2000 epochs: 100%|██████████| 2000/2000 [00:04<00:00, 424.06epoch/s]\n",
      "Ajustando modelo, 2000 epochs: 100%|██████████| 2000/2000 [00:04<00:00, 458.59epoch/s]\n"
     ]
    },
    {
     "data": {
      "image/png": "[encoded data removed]",
      "text/plain": [
       "<Figure size 1000x600 with 1 Axes>"
      ]
     },
     "metadata": {},
     "output_type": "display_data"
    }
   ],
   "source": [
    "# Define o tamanho dos batches\n",
    "batch_sizes = [2**j for j in range(1, 8)]\n",
    "data = {'Train': [], 'Validation': [], 'Test': []}\n",
    "\n",
    "theta_ols = train_OLS(features_train, labels_train)\n",
    "for col, features, labels in zip(data.keys(), feature_sets, label_sets):\n",
    "    data[col].append(mse(labels, features.dot(theta_ols)))\n",
    "\n",
    "# Plotando os resultados\n",
    "plt.figure(figsize=(10, 6))\n",
    "for batch_size in batch_sizes:\n",
    "    theta, losses_sgd = train_SGD(features_train, labels_train, batch_size=batch_size)\n",
    "    for col, features, labels in zip(data.keys(), feature_sets, label_sets):\n",
    "        data[col].append(mse(labels, features.dot(theta)))\n",
    "    plt.plot(losses_sgd, label=f'SGD (batch_size={batch_size})')\n",
    "\n",
    "plt.xlabel('Epochs')\n",
    "plt.ylabel('Loss')\n",
    "plt.legend()\n",
    "plt.show()"
   ]
  },
  {
   "cell_type": "code",
   "execution_count": 25,
   "metadata": {},
   "outputs": [
    {
     "data": {
      "text/html": [
       "<div>\n",
       "<style scoped>\n",
       "    .dataframe tbody tr th:only-of-type {\n",
       "        vertical-align: middle;\n",
       "    }\n",
       "\n",
       "    .dataframe tbody tr th {\n",
       "        vertical-align: top;\n",
       "    }\n",
       "\n",
       "    .dataframe thead th {\n",
       "        text-align: right;\n",
       "    }\n",
       "</style>\n",
       "<table border=\"1\" class=\"dataframe\">\n",
       "  <thead>\n",
       "    <tr style=\"text-align: right;\">\n",
       "      <th></th>\n",
       "      <th>Train</th>\n",
       "      <th>Validation</th>\n",
       "      <th>Test</th>\n",
       "    </tr>\n",
       "  </thead>\n",
       "  <tbody>\n",
       "    <tr>\n",
       "      <th>OLS</th>\n",
       "      <td>0.594349</td>\n",
       "      <td>0.629434</td>\n",
       "      <td>0.611985</td>\n",
       "    </tr>\n",
       "    <tr>\n",
       "      <th>SGD (batch_size=2)</th>\n",
       "      <td>0.766697</td>\n",
       "      <td>0.775539</td>\n",
       "      <td>0.766021</td>\n",
       "    </tr>\n",
       "    <tr>\n",
       "      <th>SGD (batch_size=4)</th>\n",
       "      <td>0.916867</td>\n",
       "      <td>0.932048</td>\n",
       "      <td>0.914920</td>\n",
       "    </tr>\n",
       "    <tr>\n",
       "      <th>SGD (batch_size=8)</th>\n",
       "      <td>1.061677</td>\n",
       "      <td>1.083628</td>\n",
       "      <td>1.058456</td>\n",
       "    </tr>\n",
       "    <tr>\n",
       "      <th>SGD (batch_size=16)</th>\n",
       "      <td>1.164766</td>\n",
       "      <td>1.191975</td>\n",
       "      <td>1.160999</td>\n",
       "    </tr>\n",
       "    <tr>\n",
       "      <th>SGD (batch_size=32)</th>\n",
       "      <td>1.227514</td>\n",
       "      <td>1.256093</td>\n",
       "      <td>1.223256</td>\n",
       "    </tr>\n",
       "    <tr>\n",
       "      <th>SGD (batch_size=64)</th>\n",
       "      <td>1.267989</td>\n",
       "      <td>1.292941</td>\n",
       "      <td>1.261242</td>\n",
       "    </tr>\n",
       "    <tr>\n",
       "      <th>SGD (batch_size=128)</th>\n",
       "      <td>1.299942</td>\n",
       "      <td>1.318532</td>\n",
       "      <td>1.287652</td>\n",
       "    </tr>\n",
       "  </tbody>\n",
       "</table>\n",
       "</div>"
      ],
      "text/plain": [
       "                         Train  Validation      Test\n",
       "OLS                   0.594349    0.629434  0.611985\n",
       "SGD (batch_size=2)    0.766697    0.775539  0.766021\n",
       "SGD (batch_size=4)    0.916867    0.932048  0.914920\n",
       "SGD (batch_size=8)    1.061677    1.083628  1.058456\n",
       "SGD (batch_size=16)   1.164766    1.191975  1.160999\n",
       "SGD (batch_size=32)   1.227514    1.256093  1.223256\n",
       "SGD (batch_size=64)   1.267989    1.292941  1.261242\n",
       "SGD (batch_size=128)  1.299942    1.318532  1.287652"
      ]
     },
     "execution_count": 25,
     "metadata": {},
     "output_type": "execute_result"
    }
   ],
   "source": [
    "index = [\"OLS\"] + [f\"SGD (batch_size={batch_size})\" for batch_size in batch_sizes]\n",
    "results = pd.DataFrame(data, index=index)\n",
    "results"
   ]
  },
  {
   "cell_type": "markdown",
   "metadata": {},
   "source": [
    "O SGD foi menos eficiente que o OLS, pois as iterações são significativamente mais lentas que a solução em fórmula fechada e não há garantia de convergência. Além disso, em um problema simples e, possivelmente, linear, o OLS obtém melhores resultados.\n",
    "\n",
    "Como a descida do gradiente é feita com base nos dados do batch, tamanhos menores podem não ser tão estáveis por não representar adequadamente a distribuição dos dados. Aumentar esse tamanho também acelera o treinamento, pois as operações vetorizadas podem ser realizadas em mais dados por vez.\n",
    "\n",
    "Por outro lado, aumentar o tamanho do batch também leva a um número menor de descidas do gradiente, supondo um número fixo de épocas. Assim, pode-se esperar que o erro aumente em algum ponto, principalmente se um batch pequeno é suficiente, pois o algoritmo não terá atualizações suficientes para convergir. "
   ]
  },
  {
   "cell_type": "markdown",
   "metadata": {
    "id": "oXkMBbkNTd6i"
   },
   "source": [
    "**Exercício 2.** Agora, utilizando ainda o mesmo dataset da questão anterior, você deve implementar uma **Rede RBF** com função de base Gaussiana (veja as notas de aula).\n",
    "Para os centróides, utilize o output de um modelo de clusterização por K médias, por meio da função que disponibilizamos, como a seguir:\n",
    "\n"
   ]
  },
  {
   "cell_type": "code",
   "execution_count": 26,
   "metadata": {
    "colab": {
     "base_uri": "https://localhost:8080/"
    },
    "id": "-K82Fm4OTfGr",
    "outputId": "ce844ded-b104-4e1b-ca13-3f2ddb81cd57"
   },
   "outputs": [
    {
     "name": "stdout",
     "output_type": "stream",
     "text": [
      "[[ 1.  2.]\n",
      " [10.  2.]]\n"
     ]
    },
    {
     "name": "stderr",
     "output_type": "stream",
     "text": [
      "c:\\Users\\iaram\\anaconda3\\Lib\\site-packages\\sklearn\\cluster\\_kmeans.py:1446: UserWarning: KMeans is known to have a memory leak on Windows with MKL, when there are less chunks than available threads. You can avoid it by setting the environment variable OMP_NUM_THREADS=1.\n",
      "  warnings.warn(\n"
     ]
    }
   ],
   "source": [
    "def k_means_factory(n_clusters: int) -> KMeans:\n",
    "    return KMeans(n_clusters=n_clusters, n_init=\"auto\", copy_x=False, random_state=SEED)\n",
    "\n",
    "# Número de centróides/clusters\n",
    "k_means_model = k_means_factory(n_clusters=2)\n",
    "dumb_data = np.array([\n",
    "    [1, 2],\n",
    "    [1, 4],\n",
    "    [1, 0],\n",
    "    [10, 2],\n",
    "    [10, 4],\n",
    "    [10, 0]\n",
    "])\n",
    "k_means_model.fit(dumb_data)\n",
    "cluster_centers = k_means_model.cluster_centers_\n",
    "print(cluster_centers) # Shape (n_clusters, n_features)"
   ]
  },
  {
   "cell_type": "markdown",
   "metadata": {},
   "source": [
    "Para determinar o melhor valor de $k$ para o algoritmo de clusterização, treine o modelo (usando a fórmula de OLS) com diferentes valores e escolha o que possuir o menor erro de validação. Faça um gráfico mostrando o valor do erro de validação para diferentes valores de $k$. Mostre também a performance do modelo escolhido no conjunto de teste. Compare com o modelo linear simples da questão anterior. Discuta os resultados.\n",
    "\n",
    "Para definir o valor do hiper-parâmetro $\\gamma$, use a seguinte heurística --- que pode ser achado no livro \"Neural Networks\", por Simon Haykin:\n",
    "\n",
    "$$\n",
    "\\gamma = \\frac{1}{d_\\text{max}^2},\n",
    "$$\n",
    "\n",
    "onde $d_\\text{max}$ é a maior distância entre um par de centróides. Note que o valor costuma mudar para $k$'s diferentes."
   ]
  },
  {
   "cell_type": "markdown",
   "metadata": {},
   "source": [
    "**Resposta**:\n",
    "\n",
    "Começamos criando uma função para calcular a transformação RBF. Para isso, utilizamos a função de base Gaussiana:\n",
    "\n",
    "$$f_{c_i} = \\exp \\left( -\\gamma \\lVert x - c_i \\rVert_2 ^2 \\right)$$\n",
    "\n",
    "Onde $c_i$ é o centróide, $x$ é a entrada e $\\gamma$ é uma constante, que é o inverso do quadrado da maior distância entre os centróides."
   ]
  },
  {
   "cell_type": "code",
   "execution_count": 27,
   "metadata": {},
   "outputs": [],
   "source": [
    "# Aplicação da transformação RBF\n",
    "def rbf_transformation(features: np.ndarray, centers: np.ndarray, gamma: float) -> np.ndarray:\n",
    "    return np.exp(-gamma * np.linalg.norm(features[:, np.newaxis] - centers, axis=2)**2)\n",
    "\n",
    "def calculate_gamma(cluster_centers: np.ndarray) -> float:\n",
    "    # Cria uma matriz kxkxfeatures com os centroides repetidos\n",
    "    c = np.expand_dims(cluster_centers, axis=0)\n",
    "    c_matrix = np.repeat(c, c.shape[1], axis=0)\n",
    "    # Calcula a matriz de distâncias\n",
    "    dist_matrix = c_matrix - np.expand_dims(c, axis=2)\n",
    "    dist_matrix = np.linalg.norm(dist_matrix, axis=2)\n",
    "    # Calcular gamma usando a maior distância entre os centróides\n",
    "    d_max = np.max(dist_matrix)\n",
    "    gamma = 1 / (d_max ** 2)\n",
    "    return gamma"
   ]
  },
  {
   "cell_type": "markdown",
   "metadata": {},
   "source": [
    "Agora, para encontrar o melhor valor de $k$, criamos um loop que treina o modelo para diferentes valores de $k$ e calcula o erro de validação. Para cada valor, transformamos as features e treinamos o modelo com OLS. Com o $\\theta$ encontrado, calculamos o MSE no conjunto de validação e guardamos o valor."
   ]
  },
  {
   "cell_type": "code",
   "execution_count": 28,
   "metadata": {},
   "outputs": [
    {
     "data": {
      "image/png": "[encoded data removed]",
      "text/plain": [
       "<Figure size 640x480 with 1 Axes>"
      ]
     },
     "metadata": {},
     "output_type": "display_data"
    }
   ],
   "source": [
    "# Variável para armazenar os resultados\n",
    "validation_errors = []\n",
    "gammas = []\n",
    "data = {'Train': [], 'Validation': [], 'Test': []}\n",
    "\n",
    "ks = range(2, 21)  # Testar valores de k de 2 a 20\n",
    "\n",
    "for k in ks:\n",
    "    # Treinar o K-Means\n",
    "    k_means_model = k_means_factory(n_clusters=k).fit(features_train)\n",
    "    cluster_centers = k_means_model.cluster_centers_\n",
    "    gamma = calculate_gamma(cluster_centers)\n",
    "    gammas.append(gamma)\n",
    "\n",
    "    # Transformar as features\n",
    "    features_train_rbf = rbf_transformation(features_train, cluster_centers, gamma)\n",
    "    features_validation_rbf = rbf_transformation(features_validation, cluster_centers, gamma)\n",
    "    features_test_rbf = rbf_transformation(features_test, cluster_centers, gamma)\n",
    "\n",
    "    # Treinar o regressor OLS\n",
    "    theta = train_OLS(features_train_rbf, labels_train)\n",
    "    mse_value = mse(labels_validation, features_validation_rbf @ theta)\n",
    "\n",
    "    # Armazenar os resultados\n",
    "    features_sets = [features_train_rbf, features_validation_rbf, features_test_rbf]\n",
    "    for col, features, labels in zip(data.keys(), features_sets, label_sets):\n",
    "        #print(labels.shape, features.shape, theta.shape)\n",
    "        data[col].append(mse(labels, features.dot(theta)))\n",
    "\n",
    "    # Avaliar no conjunto de validação\n",
    "    validation_errors.append(mse_value)\n",
    "\n",
    "# Plotar os erros de validação\n",
    "plt.plot(ks, validation_errors, marker='o')\n",
    "plt.title('Erro de Validação por Número de Clusters')\n",
    "plt.xlabel('Número de Clusters (k)')\n",
    "plt.ylabel('Erro de Validação (MSE)')\n",
    "plt.xticks(ks)\n",
    "plt.grid(True)\n",
    "plt.show()"
   ]
  },
  {
   "cell_type": "markdown",
   "metadata": {},
   "source": [
    "Podemos encontrar os erros de treino, validação e teste para diferentes valores de $k$: "
   ]
  },
  {
   "cell_type": "code",
   "execution_count": 29,
   "metadata": {},
   "outputs": [
    {
     "data": {
      "text/html": [
       "<div>\n",
       "<style scoped>\n",
       "    .dataframe tbody tr th:only-of-type {\n",
       "        vertical-align: middle;\n",
       "    }\n",
       "\n",
       "    .dataframe tbody tr th {\n",
       "        vertical-align: top;\n",
       "    }\n",
       "\n",
       "    .dataframe thead th {\n",
       "        text-align: right;\n",
       "    }\n",
       "</style>\n",
       "<table border=\"1\" class=\"dataframe\">\n",
       "  <thead>\n",
       "    <tr style=\"text-align: right;\">\n",
       "      <th></th>\n",
       "      <th>Train</th>\n",
       "      <th>Validation</th>\n",
       "      <th>Test</th>\n",
       "    </tr>\n",
       "  </thead>\n",
       "  <tbody>\n",
       "    <tr>\n",
       "      <th>2</th>\n",
       "      <td>1.394413</td>\n",
       "      <td>1.444596</td>\n",
       "      <td>1.396335</td>\n",
       "    </tr>\n",
       "    <tr>\n",
       "      <th>3</th>\n",
       "      <td>1.328219</td>\n",
       "      <td>1.353312</td>\n",
       "      <td>1.323302</td>\n",
       "    </tr>\n",
       "    <tr>\n",
       "      <th>4</th>\n",
       "      <td>1.326315</td>\n",
       "      <td>1.352083</td>\n",
       "      <td>1.321740</td>\n",
       "    </tr>\n",
       "    <tr>\n",
       "      <th>5</th>\n",
       "      <td>1.326427</td>\n",
       "      <td>1.351685</td>\n",
       "      <td>1.321848</td>\n",
       "    </tr>\n",
       "    <tr>\n",
       "      <th>6</th>\n",
       "      <td>1.326364</td>\n",
       "      <td>1.351367</td>\n",
       "      <td>1.321646</td>\n",
       "    </tr>\n",
       "    <tr>\n",
       "      <th>7</th>\n",
       "      <td>1.326325</td>\n",
       "      <td>1.351197</td>\n",
       "      <td>1.321573</td>\n",
       "    </tr>\n",
       "    <tr>\n",
       "      <th>8</th>\n",
       "      <td>1.326238</td>\n",
       "      <td>1.351019</td>\n",
       "      <td>1.321441</td>\n",
       "    </tr>\n",
       "    <tr>\n",
       "      <th>9</th>\n",
       "      <td>1.326161</td>\n",
       "      <td>1.350863</td>\n",
       "      <td>1.321320</td>\n",
       "    </tr>\n",
       "    <tr>\n",
       "      <th>10</th>\n",
       "      <td>1.326055</td>\n",
       "      <td>1.350684</td>\n",
       "      <td>1.321147</td>\n",
       "    </tr>\n",
       "    <tr>\n",
       "      <th>11</th>\n",
       "      <td>1.325934</td>\n",
       "      <td>1.350482</td>\n",
       "      <td>1.320971</td>\n",
       "    </tr>\n",
       "    <tr>\n",
       "      <th>12</th>\n",
       "      <td>1.325778</td>\n",
       "      <td>1.350230</td>\n",
       "      <td>1.320748</td>\n",
       "    </tr>\n",
       "    <tr>\n",
       "      <th>13</th>\n",
       "      <td>1.326813</td>\n",
       "      <td>1.352798</td>\n",
       "      <td>1.322573</td>\n",
       "    </tr>\n",
       "    <tr>\n",
       "      <th>14</th>\n",
       "      <td>1.326813</td>\n",
       "      <td>1.352797</td>\n",
       "      <td>1.322573</td>\n",
       "    </tr>\n",
       "    <tr>\n",
       "      <th>15</th>\n",
       "      <td>1.325982</td>\n",
       "      <td>1.350678</td>\n",
       "      <td>1.321041</td>\n",
       "    </tr>\n",
       "    <tr>\n",
       "      <th>16</th>\n",
       "      <td>1.325911</td>\n",
       "      <td>1.350489</td>\n",
       "      <td>1.321023</td>\n",
       "    </tr>\n",
       "    <tr>\n",
       "      <th>17</th>\n",
       "      <td>1.326811</td>\n",
       "      <td>1.352795</td>\n",
       "      <td>1.322573</td>\n",
       "    </tr>\n",
       "    <tr>\n",
       "      <th>18</th>\n",
       "      <td>1.326811</td>\n",
       "      <td>1.352796</td>\n",
       "      <td>1.322573</td>\n",
       "    </tr>\n",
       "    <tr>\n",
       "      <th>19</th>\n",
       "      <td>1.326811</td>\n",
       "      <td>1.352795</td>\n",
       "      <td>1.322573</td>\n",
       "    </tr>\n",
       "    <tr>\n",
       "      <th>20</th>\n",
       "      <td>1.326810</td>\n",
       "      <td>1.352794</td>\n",
       "      <td>1.322572</td>\n",
       "    </tr>\n",
       "  </tbody>\n",
       "</table>\n",
       "</div>"
      ],
      "text/plain": [
       "       Train  Validation      Test\n",
       "2   1.394413    1.444596  1.396335\n",
       "3   1.328219    1.353312  1.323302\n",
       "4   1.326315    1.352083  1.321740\n",
       "5   1.326427    1.351685  1.321848\n",
       "6   1.326364    1.351367  1.321646\n",
       "7   1.326325    1.351197  1.321573\n",
       "8   1.326238    1.351019  1.321441\n",
       "9   1.326161    1.350863  1.321320\n",
       "10  1.326055    1.350684  1.321147\n",
       "11  1.325934    1.350482  1.320971\n",
       "12  1.325778    1.350230  1.320748\n",
       "13  1.326813    1.352798  1.322573\n",
       "14  1.326813    1.352797  1.322573\n",
       "15  1.325982    1.350678  1.321041\n",
       "16  1.325911    1.350489  1.321023\n",
       "17  1.326811    1.352795  1.322573\n",
       "18  1.326811    1.352796  1.322573\n",
       "19  1.326811    1.352795  1.322573\n",
       "20  1.326810    1.352794  1.322572"
      ]
     },
     "execution_count": 29,
     "metadata": {},
     "output_type": "execute_result"
    }
   ],
   "source": [
    "data = pd.DataFrame(data, index=ks)\n",
    "data"
   ]
  },
  {
   "cell_type": "markdown",
   "metadata": {},
   "source": [
    "Diferente do SDG, a RBF é capaz de capturar relações não-lineares, entretanto, no dataset \"California Housing\" o modelo linear já é capaz de capturar a relação entre as features e as labels, o que faz com que a RBF não tenha uma performancemelhor. Também podemos ver que o valor de $\\gamma$ diminui com o aumento de $k$, pois a distância entre os centróides diminui. Isso faz com que a função de base Gaussiana se torne mais \"pontual\", o que pode ser útil para capturar padrões mais específicos."
   ]
  },
  {
   "cell_type": "code",
   "execution_count": 30,
   "metadata": {},
   "outputs": [
    {
     "name": "stdout",
     "output_type": "stream",
     "text": [
      "Para k=2, gamma=1.4074060285520246e-07\n",
      "Para k=3, gamma=2.3189196263876544e-08\n",
      "Para k=4, gamma=3.696577532261886e-09\n",
      "Para k=5, gamma=2.102943152926845e-09\n",
      "Para k=6, gamma=2.3532383887005703e-10\n",
      "Para k=7, gamma=2.050581703171583e-10\n",
      "Para k=8, gamma=1.7690560992059658e-10\n",
      "Para k=9, gamma=1.5292302604152615e-10\n",
      "Para k=10, gamma=1.352313637483433e-10\n",
      "Para k=11, gamma=1.1980185356607027e-10\n",
      "Para k=12, gamma=1.0843806354114697e-10\n",
      "Para k=13, gamma=9.953453678662914e-11\n",
      "Para k=14, gamma=9.346708524585001e-11\n",
      "Para k=15, gamma=7.379878821519661e-11\n",
      "Para k=16, gamma=6.781016795103542e-11\n",
      "Para k=17, gamma=6.465404978872603e-11\n",
      "Para k=18, gamma=6.261554223796495e-11\n",
      "Para k=19, gamma=5.868654541851983e-11\n",
      "Para k=20, gamma=5.490482301270418e-11\n"
     ]
    }
   ],
   "source": [
    "for i in range(len(gammas)):\n",
    "    print(f\"Para k={ks[i]}, gamma={gammas[i]}\")"
   ]
  },
  {
   "cell_type": "markdown",
   "metadata": {},
   "source": [
    "Testando para $k = 2, \\ldots, 20$, encontramos que o menor erro de validação foi obtido para $k = 12$ em todos os conjuntos de treino, validação e teste."
   ]
  },
  {
   "cell_type": "code",
   "execution_count": 31,
   "metadata": {},
   "outputs": [
    {
     "name": "stdout",
     "output_type": "stream",
     "text": [
      "Melhor erro para Train: 1.3257776290213672 com k=12\n",
      "Melhor erro para Validation: 1.3502299632210601 com k=12\n",
      "Melhor erro para Test: 1.3207477514219448 com k=12\n"
     ]
    }
   ],
   "source": [
    "for errors in data.columns:\n",
    "    print(f\"Melhor erro para {errors}: {min(data[errors])} com k={data[errors].idxmin()}\")"
   ]
  },
  {
   "cell_type": "markdown",
   "metadata": {
    "id": "fvACUfsQWm11"
   },
   "source": [
    "# Exercícios de \"papel e caneta\""
   ]
  },
  {
   "cell_type": "markdown",
   "metadata": {},
   "source": [
    "**Exercício 1.** Deixe que $X \\in \\mathbb{R}^{N\\times D}$, $c>0$ e $I$ denote a matriz identidade de dimensão $N$.\n",
    " Mostre que $X^\\intercal X + c I$ possui inversa."
   ]
  },
  {
   "cell_type": "markdown",
   "metadata": {},
   "source": [
    "**Resposta**: Sabemos que a matriz $X^T X$ é sempre positiva semi-definida, pois para qualquer vetor $v$ temos que $v^T (X^T X) v = (Xv)^T Xv = \\lVert Xv \\rVert^2 \\geq 0$. Ao adicionar $cI$, estamos somando uma matriz diagonal com $c$ em todas as entradas, onde $c > 0$. Então, analogamente, seja $A = X^T X + cI$. Para qualquer vetor não-nulo $v$, temos:\n",
    "$$v^T A v = v^T (X^T X + cI) v =$$\n",
    "$$v^T (X^T X) v + c v^T I v = \\underbrace{\\lVert Xv \\rVert^2}_{\\geq 0} + \\underbrace{c \\lVert v \\rVert^2}_{>0} > 0$$\n",
    "\n",
    "Com isso, podemos concluir que $X^T X + cI$ é positiva-definida, e portanto, é invertível."
   ]
  },
  {
   "cell_type": "markdown",
   "metadata": {},
   "source": [
    "**Exercício 2.** Deixe que $X \\in \\mathbb{R}^{N\\times D}$ seja uma matriz contendo os exemplos de treinamento (um por linha) e que $y\\in \\mathbb{R}^N$ seja um vetor coluna dos outputs observados para cada vetor de input em suas linhas. Na aula, derivamos a solução de mínimos quadrados ordinários (OLS). Use o mesmo raciocínio para resolver achar o vetor de pesos ${\\theta}$ que minimiza:\n",
    " \n",
    "$$ \\|X \\theta - y\\|_2^2 + c \\|\\theta\\|_2^2,$$\n",
    "\n",
    "onde $c>0$ é uma constante."
   ]
  },
  {
   "cell_type": "markdown",
   "metadata": {},
   "source": [
    "**Resposta**: Seja $J(\\theta) = \\|X \\theta - y\\|_2^2 + c \\|\\theta\\|_2^2$. Para encontrar o mínimo de $J(\\theta)$, devemos encontrar o ponto onde a derivada de $J(\\theta)$ é zero. Então, temos:\n",
    "\n",
    "$$J(\\theta) = (X\\theta - y)^T (X\\theta - y) + c \\theta^T \\theta$$\n",
    "\n",
    "Agora derivamos $J(\\theta)$ em relação a $\\theta$:\n",
    "\n",
    "$$\\frac{\\partial J(\\theta)}{\\partial \\theta} = \\frac{\\partial}{\\partial \\theta} \\left[ (X\\theta - y)^T (X\\theta - y) + c \\theta^T \\theta \\right] $$\n",
    "$$= \\frac{\\partial}{\\partial \\theta} \\left[ \\theta^T X^T X \\theta - \\underbrace{\\theta^T X^T y}_{= \\; y^T X \\theta} - y^T X \\theta + y^T y + c \\theta^T \\theta \\right]$$\n",
    "$$= \\frac{\\partial}{\\partial \\theta} \\left[ \\theta^T X^T X \\theta - 2y^T X \\theta + y^T y + c \\theta^T \\theta \\right]$$\n",
    "$$= 2X^T X \\theta - 2X^T y + 2c \\theta$$\n",
    "\n",
    "Igualando a derivada a zero, temos:\n",
    "\n",
    "$$2X^T X \\theta - 2X^T y + 2c \\theta = 0$$\n",
    "$$X^T X \\theta + c \\theta = X^T y$$\n",
    "$$(X^T X + cI) \\theta = X^T y$$\n",
    "$$\\theta = (X^T X + cI)^{-1} X^T y$$\n",
    "\n",
    "Ao isolar $\\theta$, encontramos a solução para o problema de minimização, onde $\\theta$ é o vetor de pesos que minimiza a função de custo $J(\\theta)$, com $c > 0$."
   ]
  },
  {
   "cell_type": "markdown",
   "metadata": {},
   "source": [
    "**Exercício 3.** Em algumas situações, temos muito mais features que amostras ($D \\gg N$). Esse tipo de cenário é comum, e.g., na análise de dados genômicos. Nesse caso, costumam existir infinitas combinações lineares das features que expressam o vetor de saídas $y$. Portanto, precisamos de algum critério para escolher um deles. Uma abordagem possível, é escolher o vetor de pesos $\\theta$ que possua menor norma L2.\n",
    "Com isso em mente, derive a solução que minimiza $\\|\\theta\\|_2^2$ e respeita $X \\theta = y$. Assuma que as linhas de $X$ são linearmente independentes."
   ]
  },
  {
   "cell_type": "markdown",
   "metadata": {},
   "source": [
    "**Resposta:** Vamos utilizar o método dos multiplicadores de Lagrange para resolver esse problema.\n",
    "$$J(\\theta) = \\|\\theta\\|_2^2 - \\lambda^T (X\\theta - y)$$\n",
    "$$J(\\theta) = \\theta^T \\theta - \\lambda (X\\theta - y)$$\n",
    "\n",
    "onde $\\lambda$ é o multiplicador de Lagrange. Agora, derivamos $J(\\theta)$ em relação a $\\theta$ e igualamos a zero:\n",
    "\n",
    "$$\\frac{\\partial J(\\theta)}{\\partial \\theta} = 2\\theta - X^T \\lambda = 0$$\n",
    "\n",
    "Isolando $\\theta$, temos:\n",
    "\n",
    "$$\\theta = \\frac{1}{2} X^T \\lambda \\quad (1)$$\n",
    "\n",
    "Substituindo $\\theta$ na restrição $X\\theta = y$, temos:\n",
    "\n",
    "$$X\\left(\\frac{1}{2} X^T \\lambda\\right) = y$$\n",
    "\n",
    "$$X X^T \\lambda = 2y$$\n",
    "\n",
    "$$\\lambda = 2(X X^T)^{-1} y \\quad (2)$$\n",
    "\n",
    "Substituindo $(2)$ em $(1)$, temos:\n",
    "\n",
    "$$\\theta = X^T (X X^T)^{-1} y$$\n",
    "\n",
    "Essa expressão é equivalente à solução dada pela pseudoinversa de Moore-Penrose de $X$, denotada como $X^{+}$, que é a generalização da inversa de uma matriz para o caso de matrizes não quadradas ou singulares.\n",
    "\n",
    "No caso específico em que $N<D$ e as linhas de $X$ são linearmente independentes, a pseudoinversa de $X$ é dada por: $X^{+}=X^{\\top}\\left(X X^{\\top}\\right)^{-1}$. Esta formulação da pseudoinversa é específica para o caso em que temos mais colunas (features) que linhas (amostras) e garante que as linhas de $X$ sejam tratadas de forma que a solução resultante para $\\theta$ seja a de menor norma L2 possível.\n",
    "\n",
    "Substituindo $X^{+}$ na condição $X \\theta=y$, também obteríamos: $\\hat{\\theta}_{\\mathrm{MN}}=X^{+} y=X^{\\top}\\left(X X^{\\top}\\right)^{-1} y$"
   ]
  }
 ],
 "metadata": {
  "colab": {
   "provenance": []
  },
  "kernelspec": {
   "display_name": "Python 3 (ipykernel)",
   "language": "python",
   "name": "python3"
  },
  "language_info": {
   "codemirror_mode": {
    "name": "ipython",
    "version": 3
   },
   "file_extension": ".py",
   "mimetype": "text/x-python",
   "name": "python",
   "nbconvert_exporter": "python",
   "pygments_lexer": "ipython3",
   "version": "3.11.5"
  }
 },
 "nbformat": 4,
 "nbformat_minor": 4
}
